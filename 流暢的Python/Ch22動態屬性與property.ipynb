{
 "cells": [
  {
   "cell_type": "markdown",
   "metadata": {},
   "source": [
    "在Python中，資料屬性和方法都被稱為屬性(attribute)。方法是可調用(callable)的屬性。\n",
    "\n",
    "1. 屬性（Attribute）的定義：\n",
    "在Python中，屬性是與對象相關聯的任何值。這是一個廣泛的概念，包含了我們通常認為的\"變量\"和\"函數\"。\n",
    "\n",
    "2. 資料屬性：\n",
    "- 這些是我們通常稱為\"變量\"的東西。\n",
    "- 它們存儲數據值。\n",
    "- 例如：如果我們有一個Person類，name和age可能是資料屬性。\n",
    "\n",
    "3. 方法：\n",
    "- 這些是與對象相關聯的函數。\n",
    "- 它們定義了對象可以執行的操作。\n",
    "- 重要的是，方法也被視為屬性，只是它們是可以被調用的特殊屬性。\n",
    "\n",
    "4. 可調用（Callable）的概念：\n",
    "- 在Python中，如果一個對象可以使用圓括號 () 來調用（就像函數那樣），我們就說它是可調用的。\n",
    "- 所有的方法都是可調用的，因為它們本質上是函數。\n",
    "\n",
    "5. 統一的訪問方式：\n",
    "- 在Python中，我們使用點號 (.) 來訪問對象的屬性，不管它是資料屬性還是方法。\n",
    "- 例如：person.name 和 person.speak() 使用相同的語法，儘管一個是訪問數據，另一個是調用方法。\n",
    "\n",
    "6. 動態性：\n",
    "- Python的這種設計使得屬性可以非常動態。\n",
    "- 例如，你可以在運行時添加或修改屬性，甚至將一個方法替換為一個資料屬性（反之亦然）。\n",
    "\n",
    "\n",
    "實例說明："
   ]
  },
  {
   "cell_type": "code",
   "execution_count": 1,
   "metadata": {},
   "outputs": [
    {
     "name": "stdout",
     "output_type": "stream",
     "text": [
      "Alice\n",
      "Hello, I'm Alice\n",
      "Hello, I'm Alice\n"
     ]
    }
   ],
   "source": [
    "class Person:\n",
    "    def __init__(self, name):\n",
    "        self.name = name  # 這是一個資料屬性\n",
    "\n",
    "    def greet(self):  # 這是一個方法屬性\n",
    "        return f\"Hello, I'm {self.name}\"\n",
    "\n",
    "person = Person(\"Alice\")\n",
    "\n",
    "print(person.name)  # 訪問資料屬性\n",
    "print(person.greet())  # 調用方法屬性\n",
    "\n",
    "# 我們可以動態地添加新的屬性\n",
    "person.age = 30\n",
    "\n",
    "# 我們甚至可以將方法賦值給一個變量\n",
    "greeting_method = person.greet\n",
    "print(greeting_method())  # 這仍然有效，因為方法是可調用的屬性"
   ]
  },
  {
   "cell_type": "markdown",
   "metadata": {},
   "source": [
    "統一存取原則（Uniform Access Principle），這是一個在軟件設計中非常重要的概念。\n",
    "\n",
    "首先，讓我們分解這個原則的核心思想：\n",
    "\n",
    "1. 統一的介面：\n",
    "這個原則主張，無論我們是在獲取一個簡單的值還是執行一個複雜的計算，從使用者的角度來看，它們應該看起來完全一樣。\n",
    "2. 隱藏實現細節：\n",
    "使用者不應該需要知道或關心他們請求的信息是存儲的還是計算的。\n",
    "3. 靈活性和可維護性：\n",
    "這種方法允許開發者在不影響使用者代碼的情況下更改實現細節。\n",
    "\n",
    "讓我們通過一個例子來說明這個原則：\n",
    "想像我們有一個 Rectangle 類："
   ]
  },
  {
   "cell_type": "code",
   "execution_count": 2,
   "metadata": {},
   "outputs": [
    {
     "name": "stdout",
     "output_type": "stream",
     "text": [
      "5\n",
      "15\n"
     ]
    }
   ],
   "source": [
    "class Rectangle:\n",
    "    def __init__(self, width, height):\n",
    "        self.width = width\n",
    "        self.height = height\n",
    "\n",
    "    def area(self):\n",
    "        return self.width * self.height\n",
    "\n",
    "rect = Rectangle(5, 3)\n",
    "print(rect.width)  # 直接訪問屬性\n",
    "print(rect.area())  # 調用方法"
   ]
  },
  {
   "cell_type": "markdown",
   "metadata": {},
   "source": [
    "在這個例子中，我們以兩種不同的方式獲取信息：直接訪問 width 屬性，和調用 area() 方法。這違反了統一存取原則。\n",
    "讓我們改進這個設計："
   ]
  },
  {
   "cell_type": "code",
   "execution_count": null,
   "metadata": {},
   "outputs": [],
   "source": [
    "class Rectangle:\n",
    "    def __init__(self, width, height):\n",
    "        self._width = width\n",
    "        self._height = height\n",
    "\n",
    "    @property\n",
    "    def width(self):\n",
    "        return self._width\n",
    "\n",
    "    @property\n",
    "    def height(self):\n",
    "        return self._height\n",
    "\n",
    "    @property\n",
    "    def area(self):\n",
    "        return self._width * self._height\n",
    "\n",
    "rect = Rectangle(5, 3)\n",
    "print(rect.width)  # 看起來像直接訪問，實際上調用了方法\n",
    "print(rect.area)   # 同樣看起來像直接訪問"
   ]
  },
  {
   "cell_type": "markdown",
   "metadata": {},
   "source": [
    "在這個改進後的版本中：\n",
    "\n",
    "1. 所有的訪問看起來都是一樣的（統一的介面）。\n",
    "2. 使用者不需要知道 width 是存儲的值，而 area 是計算的結果。\n",
    "3. 如果將來我們決定改變 width 的實現（例如，從英寸轉換為厘米），我們可以在不影響使用者代碼的情況下進行更改。\n",
    "\n",
    "這個原則的好處包括：\n",
    "\n",
    "- 簡化了 API：使用者不需要記住哪些是方法，哪些是屬性。\n",
    "- 提高了封裝性：實現細節被隱藏，允許更自由地修改內部結構。\n",
    "- 增強了可維護性：可以在不破壞現有代碼的情況下改變實現。\n",
    "\n",
    "在 Python 中，@property 裝飾器是實現這一原則的強大工具，它允許我們將方法呈現為屬性，從而實現統一的存取方式。\n",
    "總的來說，統一存取原則鼓勵我們創建一個一致的、易於使用的介面，同時保持內部實現的靈活性。這種方法不僅使代碼更易於使用，還為未來的變更提供了更大的自由度。\n",
    "\n"
   ]
  },
  {
   "cell_type": "markdown",
   "metadata": {},
   "source": [
    "從表面上看，舊的程式碼確實更簡短。這讓我們有機會深入探討程式設計中的一些重要概念。讓我們一起來分析為什麼看似更複雜的程式碼可能在某些情況下更有優勢：\n",
    "\n",
    "1. 短期vs長期考慮：\n",
    "舊版本的確更簡短，對於小型專案或快速原型可能更合適。但隨著專案規模擴大或需求變更，新版本的優勢就會顯現出來。\n",
    "2. 封裝與資訊隱藏：\n",
    "新版本使用了下劃線前綴（如 _width）來表示這些是內部屬性。這種做法提供了更好的封裝，使得外部代碼不應直接訪問這些屬性。\n",
    "3. 彈性與可擴展性：\n",
    "假設我們需要在獲取寬度時進行單位轉換：\n"
   ]
  },
  {
   "cell_type": "code",
   "execution_count": null,
   "metadata": {},
   "outputs": [],
   "source": [
    "@property\n",
    "def width(self):\n",
    "    return self._width * 2.54  # 英吋轉換為厘米"
   ]
  },
  {
   "cell_type": "markdown",
   "metadata": {},
   "source": [
    "在新版本中，我們可以輕鬆添加這樣的邏輯而不影響使用此類的任何現有代碼。\n",
    "4. 一致性：\n",
    "在新版本中，所有屬性（包括計算屬性如 area）的訪問方式都是一致的。這種一致性可以簡化 API 的使用。\n",
    "5. 向後相容性：\n",
    "如果我們決定改變內部實現（例如，將長方形改為以對角線長度和角度來定義），新版本允許我們這樣做而不破壞依賴於這個類的任何現有代碼。\n",
    "6. 驗證與錯誤處理：\n",
    "使用屬性，我們可以在設置值時添加驗證：\n"
   ]
  },
  {
   "cell_type": "code",
   "execution_count": null,
   "metadata": {},
   "outputs": [],
   "source": [
    "@width.setter\n",
    "def width(self, value):\n",
    "    if value <= 0:\n",
    "        raise ValueError(\"Width must be positive\")\n",
    "    self._width = value"
   ]
  },
  {
   "cell_type": "markdown",
   "metadata": {},
   "source": [
    "7. 文檔和元數據：\n",
    "屬性允許我們添加文檔字符串，這在使用 help() 函數或生成文檔時非常有用："
   ]
  },
  {
   "cell_type": "code",
   "execution_count": null,
   "metadata": {},
   "outputs": [],
   "source": [
    "@property\n",
    "def area(self):\n",
    "    \"\"\"Calculate and return the area of the rectangle.\"\"\"\n",
    "    return self._width * self._height"
   ]
  },
  {
   "cell_type": "markdown",
   "metadata": {},
   "source": [
    "8. 效能考慮：\n",
    "雖然屬性調用確實比直接屬性訪問稍慢，但這種差異在大多數情況下是微不足道的。權衡之下，獲得的靈活性通常更有價值。\n",
    "9. 設計哲學：\n",
    "這種方法體現了\"預先設計\"的思想。雖然現在可能看起來有些過度設計，但它為未來的變更和擴展鋪平了道路。\n",
    "\n",
    "總的來說，雖然新版本的程式碼確實更長，但它提供了更大的靈活性、更好的封裝和更強的可維護性。這種方法可能在短期內看起來有些多餘，但從長遠來看，特別是在大型或長期維護的專案中，這些優勢會變得非常明顯。\n",
    "作為程式設計師，我們需要在簡潔性和靈活性之間取得平衡。了解這兩種方法的優缺點，可以幫助我們在不同的場景中做出最佳的設計決策。"
   ]
  }
 ],
 "metadata": {
  "kernelspec": {
   "display_name": "Python 3",
   "language": "python",
   "name": "python3"
  },
  "language_info": {
   "codemirror_mode": {
    "name": "ipython",
    "version": 3
   },
   "file_extension": ".py",
   "mimetype": "text/x-python",
   "name": "python",
   "nbconvert_exporter": "python",
   "pygments_lexer": "ipython3",
   "version": "3.13.0"
  }
 },
 "nbformat": 4,
 "nbformat_minor": 2
}
