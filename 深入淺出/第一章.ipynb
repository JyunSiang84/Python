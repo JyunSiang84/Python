{
 "cells": [
  {
   "cell_type": "markdown",
   "metadata": {},
   "source": [
    "# A. 列表（List）操作基本方法\n",
    "\n",
    "- len(): 計算列表長度\n",
    "- append(): 在列表末尾添加元素\n",
    "- pop(): 移除並返回最後一個元素\n",
    "- extend(): 將另一個列表的所有元素添加到當前列表\n",
    "- remove(): 刪除指定的元素\n",
    "- insert(): 在指定位置插入元素\n"
   ]
  },
  {
   "cell_type": "markdown",
   "metadata": {},
   "source": [
    "## A1. 新增元素\n",
    "append() 方法的設計原理是一次只能添加一個元素。這就像是你有一個信箱，每次只能投入一封信。當你試圖使用 append('橘子','西瓜') 時，Python 會報錯，因為 append() 只接受一個參數。\n",
    "要一次添加多個元素，我們有幾種方法：\n",
    "\n",
    "### 1. 使用多次 append()："
   ]
  },
  {
   "cell_type": "code",
   "execution_count": 4,
   "metadata": {},
   "outputs": [
    {
     "name": "stdout",
     "output_type": "stream",
     "text": [
      "一開始的水果有：['蘋果', '香蕉']\n",
      "加入橘子後的水果有：['蘋果', '香蕉', '橘子', '西瓜']\n",
      "現在總共有 4 種水果\n"
     ]
    }
   ],
   "source": [
    "# 創建一個你喜歡的水果列表\n",
    "fruits = ['蘋果', '香蕉']\n",
    "print(f\"一開始的水果有：{fruits}\")\n",
    "\n",
    "# 添加一個新水果\n",
    "fruits.append('橘子')\n",
    "fruits.append('西瓜')\n",
    "print(f\"加入橘子後的水果有：{fruits}\")\n",
    "\n",
    "# 計算現在有幾個水果\n",
    "fruit_count = len(fruits)\n",
    "print(f\"現在總共有 {fruit_count} 種水果\")"
   ]
  },
  {
   "cell_type": "markdown",
   "metadata": {},
   "source": [
    "### 2. 將多個元素換成一個列表，然後使用 extend() 方法"
   ]
  },
  {
   "cell_type": "code",
   "execution_count": 5,
   "metadata": {},
   "outputs": [
    {
     "name": "stdout",
     "output_type": "stream",
     "text": [
      "加入多個水果後：['蘋果', '香蕉', '橘子', '西瓜', '芒果', '葡萄']\n"
     ]
    }
   ],
   "source": [
    "fruits.extend(['芒果', '葡萄'])\n",
    "print(f\"加入多個水果後：{fruits}\")"
   ]
  },
  {
   "cell_type": "markdown",
   "metadata": {},
   "source": [
    "extend() 通常是添加多個元素最推薦的方式，因為：\n",
    "\n",
    "- 語法簡潔\n",
    "- 直接修改原列表\n",
    "- 效率較高\n",
    "- 意圖明確"
   ]
  },
  {
   "cell_type": "markdown",
   "metadata": {},
   "source": [
    "### 3. 使用加號運算符(+) ："
   ]
  },
  {
   "cell_type": "code",
   "execution_count": 6,
   "metadata": {},
   "outputs": [
    {
     "name": "stdout",
     "output_type": "stream",
     "text": [
      "使用加號添加：['蘋果', '香蕉', '橘子', '西瓜', '芒果', '葡萄', '李子', '南瓜']\n"
     ]
    }
   ],
   "source": [
    "fruits = fruits + ['李子', '南瓜']\n",
    "print(f\"使用加號添加：{fruits}\")"
   ]
  },
  {
   "cell_type": "markdown",
   "metadata": {},
   "source": [
    "### 4. 使用乘號運算符 (*)  ："
   ]
  },
  {
   "cell_type": "code",
   "execution_count": 7,
   "metadata": {},
   "outputs": [
    {
     "name": "stdout",
     "output_type": "stream",
     "text": [
      "使用乘號後：['蘋果', '蘋果', '蘋果']\n"
     ]
    }
   ],
   "source": [
    "fruits_apple = ['蘋果']\n",
    "repeated_fruits_apple = fruits_apple * 3\n",
    "print(f\"使用乘號後：{repeated_fruits_apple}\")  # 輸出：['蘋果', '蘋果', '蘋果']"
   ]
  },
  {
   "cell_type": "markdown",
   "metadata": {},
   "source": [
    "### 5. insert() 方法 - 在指定位置插入元素"
   ]
  },
  {
   "cell_type": "code",
   "execution_count": 8,
   "metadata": {},
   "outputs": [
    {
     "name": "stdout",
     "output_type": "stream",
     "text": [
      "使用 insert 後：['蘋果', '橘子', '香蕉']\n",
      "insert 超範圍後：['蘋果', '橘子', '香蕉', '西瓜']\n"
     ]
    }
   ],
   "source": [
    "fruits = ['蘋果', '香蕉']\n",
    "fruits.insert(1, '橘子')  # 在索引 1 的位置插入\n",
    "print(f\"使用 insert 後：{fruits}\")  # 輸出：['蘋果', '橘子', '香蕉']\n",
    "\n",
    "# insert 超出範圍時會添加到末尾\n",
    "fruits.insert(100, '西瓜')\n",
    "print(f\"insert 超範圍後：{fruits}\")  # 輸出：['蘋果', '橘子', '香蕉', '西瓜']"
   ]
  },
  {
   "cell_type": "markdown",
   "metadata": {},
   "source": [
    "### 6. 使用列表切片賦值\n",
    "使用切片賦值的優點：\n",
    "\n",
    "- 可以一次性修改多個元素\n",
    "- 能夠實現插入、替換和刪除等多種操作\n",
    "- 代碼簡潔，執行效率高\n",
    "\n",
    "需要注意的事項：\n",
    "\n",
    "- 切片範圍要正確，否則可能得到意外結果\n",
    "- 使用步進切片時，新元素數量必須匹配\n",
    "- 負索引也是有效的，但要小心使用"
   ]
  },
  {
   "cell_type": "code",
   "execution_count": 12,
   "metadata": {},
   "outputs": [
    {
     "name": "stdout",
     "output_type": "stream",
     "text": [
      "原始書單：['Harry Potter', 'Lord of the Rings', 'The Hobbit']\n",
      "插入新書後：['Harry Potter', 'Lord of the Rings', 'Chronicles of Narnia', 'Pride and Prejudice', 'The Hobbit']\n"
     ]
    }
   ],
   "source": [
    "books = ['Harry Potter', 'Lord of the Rings', 'The Hobbit']\n",
    "print(f\"原始書單：{books}\")\n",
    "\n",
    "# 在索引 1 的位置插入新書\n",
    "books[2:1] = ['Chronicles of Narnia', 'Pride and Prejudice']\n",
    "print(f\"插入新書後：{books}\")\n",
    "# 輸出：['Harry Potter', 'Chronicles of Narnia', 'Pride and Prejudice', 'Lord of the Rings', 'The Hobbit']\n",
    "\n",
    "# 解釋：\n",
    "# - 1:1 表示在索引 1 的位置\"打開一個空隙\"\n",
    "# - 這個空隙可以放入任意數量的新元素\n",
    "# - 原來的元素會向後移動"
   ]
  },
  {
   "cell_type": "code",
   "execution_count": 32,
   "metadata": {},
   "outputs": [
    {
     "name": "stdout",
     "output_type": "stream",
     "text": [
      "原始書單：['A', 'B', 'C', 'D', 'E', 'F', 'G', 'H']\n",
      "插入新書後：['A', '1', '2', '3', '4', '5', '6', '7', '8', '9', 'B', 'C', 'D', 'E', 'F', 'G', 'H']\n"
     ]
    }
   ],
   "source": [
    "books = ['A', 'B', 'C', 'D', 'E', 'F', 'G', 'H']\n",
    "print(f\"原始書單：{books}\")\n",
    "\n",
    "# 在索引 1 的位置插入新書\n",
    "books[1:1] = ['1', '2', '3', '4', '5', '6', '7', '8', '9']\n",
    "print(f\"插入新書後：{books}\")"
   ]
  },
  {
   "cell_type": "code",
   "execution_count": 33,
   "metadata": {},
   "outputs": [
    {
     "name": "stdout",
     "output_type": "stream",
     "text": [
      "原始數字列表：[1, 2, 3, 4, 5, 6]\n",
      "替換後：[1, 'a', 3, 'b', 5, 'c']\n"
     ]
    }
   ],
   "source": [
    "numbers = [1, 2, 3, 4, 5, 6]\n",
    "print(f\"原始數字列表：{numbers}\")\n",
    "\n",
    "# 替換偶數位置的元素\n",
    "numbers[1::2] = ['a', 'b', 'c']\n",
    "print(f\"替換後：{numbers}\")  # 輸出：[1, 'a', 3, 'b', 5, 'c']\n",
    "\n",
    "# 解釋：\n",
    "# - 1::2 表示從索引 1 開始，每隔一個元素\n",
    "# - 新元素的數量必須與被替換的位置數量相同"
   ]
  },
  {
   "cell_type": "markdown",
   "metadata": {},
   "source": [
    "### 7. 使用列表推導式創建新列表"
   ]
  },
  {
   "cell_type": "code",
   "execution_count": null,
   "metadata": {},
   "outputs": [],
   "source": [
    "fruits = ['蘋果', '香蕉']\n",
    "# 創建一個新列表，包含原列表元素加上新元素\n",
    "new_fruits = [*fruits, '橘子', '西瓜']\n",
    "print(f\"使用解包語法：{new_fruits}\")  # 輸出：['蘋果', '香蕉', '橘子', '西瓜']"
   ]
  },
  {
   "cell_type": "markdown",
   "metadata": {},
   "source": [
    "## A2. 移除元素\n",
    "想像列表就像一個有序的抽屜，我們有不同的方法可以從中取出東西。\n",
    "\n",
    "### 1. pop() 方法：\n",
    "- 需要知道被移除的元素是什麼\n",
    "- 想要移除特定位置的元素\n",
    "- 需要類似堆疊（後進先出）的操作"
   ]
  },
  {
   "cell_type": "code",
   "execution_count": null,
   "metadata": {},
   "outputs": [
    {
     "name": "stdout",
     "output_type": "stream",
     "text": [
      "原始列表: ['蘋果', '香蕉', '橘子', '西瓜']\n",
      "移除的水果是：西瓜\n",
      "剩下的水果：['蘋果', '香蕉', '橘子']\n",
      "移除的第二個水果是：香蕉\n",
      "最後剩下：['蘋果', '橘子']\n"
     ]
    }
   ],
   "source": [
    "fruits = ['蘋果', '香蕉', '橘子', '西瓜']\n",
    "print(\"原始列表:\", fruits)\n",
    "\n",
    "# 移除最後一個元素\n",
    "last_fruit = fruits.pop()\n",
    "print(f\"移除的水果是：{last_fruit}\")    # 輸出：西瓜\n",
    "print(f\"剩下的水果：{fruits}\")         # 輸出：['蘋果', '香蕉', '橘子']\n",
    "\n",
    "# 移除指定位置的元素\n",
    "second_fruit = fruits.pop(1)           # 移除索引 1 的元素\n",
    "print(f\"移除的第二個水果是：{second_fruit}\")  # 輸出：香蕉\n",
    "print(f\"最後剩下：{fruits}\")           # 輸出：['蘋果', '橘子']\n"
   ]
  },
  {
   "cell_type": "markdown",
   "metadata": {},
   "source": [
    "### 2. 使用 remove() 方法：已知內容方法\n",
    "- 知道要移除的具體值，但不知道它的位置\n",
    "- 想要移除第一個匹配的元素"
   ]
  },
  {
   "cell_type": "code",
   "execution_count": 29,
   "metadata": {},
   "outputs": [
    {
     "name": "stdout",
     "output_type": "stream",
     "text": [
      "原始列表: ['蘋果', '香蕉', '橘子', '蘋果', '西瓜']\n",
      "移除一個蘋果後：['香蕉', '橘子', '蘋果', '西瓜']\n",
      "移除所有蘋果後：['香蕉', '橘子', '西瓜']\n"
     ]
    }
   ],
   "source": [
    "fruits = ['蘋果', '香蕉', '橘子', '蘋果', '西瓜']\n",
    "print(\"原始列表:\", fruits)\n",
    "\n",
    "# 移除特定元素（第一個匹配的）\n",
    "fruits.remove('蘋果')\n",
    "print(f\"移除一個蘋果後：{fruits}\")     # 輸出：['香蕉', '橘子', '蘋果', '西瓜']\n",
    "\n",
    "# 注意：remove() 只移除第一個找到的元素\n",
    "# 如果要移除所有相同的元素，需要用循環\n",
    "while '蘋果' in fruits:\n",
    "    fruits.remove('蘋果')\n",
    "print(f\"移除所有蘋果後：{fruits}\")     # 輸出：['香蕉', '橘子', '西瓜']"
   ]
  },
  {
   "cell_type": "markdown",
   "metadata": {},
   "source": [
    "### 3. 使用 del 語句\n",
    "- 知道要刪除的確切位置\n",
    "- 想要刪除一個範圍的元素\n",
    "- 不需要知道被刪除的值"
   ]
  },
  {
   "cell_type": "code",
   "execution_count": null,
   "metadata": {},
   "outputs": [],
   "source": [
    "fruits = ['蘋果', '香蕉', '橘子', '西瓜']\n",
    "print(\"原始列表:\", fruits)\n",
    "\n",
    "# 刪除特定索引的元素\n",
    "del fruits[1]\n",
    "print(f\"刪除索引 1 後：{fruits}\")      # 輸出：['蘋果', '橘子', '西瓜']\n",
    "\n",
    "# 刪除一個範圍的元素\n",
    "del fruits[0:2]\n",
    "print(f\"刪除前兩個元素後：{fruits}\")   # 輸出：['西瓜']"
   ]
  },
  {
   "cell_type": "markdown",
   "metadata": {},
   "source": [
    "### 4. 使用列表切片重新賦值\n",
    "- 想要用一個操作替換或刪除多個元素\n",
    "- 需要更靈活的刪除方式"
   ]
  },
  {
   "cell_type": "code",
   "execution_count": null,
   "metadata": {},
   "outputs": [],
   "source": [
    "fruits = ['蘋果', '香蕉', '橘子', '西瓜']\n",
    "print(\"原始列表:\", fruits)\n",
    "\n",
    "# 通過切片替換（實際上是刪除）元素\n",
    "fruits[1:3] = []\n",
    "print(f\"刪除索引 1 到 2 的元素後：{fruits}\")  # 輸出：['蘋果', '西瓜']"
   ]
  },
  {
   "cell_type": "markdown",
   "metadata": {},
   "source": [
    "## A3. 推導式（List Comprehension）\n",
    "這個 Python 中非常優雅且強大的特性。我們可以把它想像成一個簡潔的「配方」，用來創建新的列表。\n",
    "首先，讓我們從最基本的形式開始：\n",
    "\n",
    "列表推導式的優點：\n",
    "\n",
    "- 代碼更簡潔、可讀性更高\n",
    "- 執行效率通常比傳統的 for 循環更好\n",
    "- 可以立即創建新的列表，不需要額外的步驟\n",
    "\n",
    "使用時的注意事項：\n",
    "\n",
    "- 不要在一個推導式中做太多操作，這會降低可讀性\n",
    "- 對於很複雜的邏輯，使用傳統的 for 循環可能更清晰\n",
    "- 要注意內存使用，處理大量數據時可能需要使用生成器表達式"
   ]
  },
  {
   "cell_type": "code",
   "execution_count": null,
   "metadata": {},
   "outputs": [
    {
     "name": "stdout",
     "output_type": "stream",
     "text": [
      "平方數列表：[0, 1, 4, 9, 16]\n",
      "平方數列表：[0, 1, 4, 9, 16]\n"
     ]
    }
   ],
   "source": [
    "# 基本列表推導式語法\n",
    "# new_list = [expression for item in iterable]\n",
    "\n",
    "# 傳統的方式創建平方數列表\n",
    "squares_traditional = []\n",
    "for i in range(5):\n",
    "    squares_traditional.append(i ** 2)\n",
    "\n",
    "print(f\"平方數列表：{squares_traditional}\")\n",
    "\n",
    "# 使用列表推導式創建相同的列表\n",
    "squares_comprehension = [i ** 2 for i in range(5)]\n",
    "print(f\"平方數列表：{squares_comprehension}\")  # 輸出：[0, 1, 4, 9, 16]"
   ]
  },
  {
   "cell_type": "markdown",
   "metadata": {},
   "source": [
    "### 1. 基於條件過濾的列表推導式：\n",
    "只想篩選元素（而不是轉換元素），正確的語法是把 if 條件放在 for 循環後面。\n",
    "\n",
    "[expression for item in iterable if condition]"
   ]
  },
  {
   "cell_type": "code",
   "execution_count": 44,
   "metadata": {},
   "outputs": [
    {
     "name": "stdout",
     "output_type": "stream",
     "text": [
      "偶數列表：[2, 4, 6, 8, 10]\n",
      "大於 5 的數字乘以 2：[12, 14, 16, 18, 20]\n"
     ]
    }
   ],
   "source": [
    "# 語法：[expression for item in iterable if condition]\n",
    "\n",
    "numbers = [1, 2, 3, 4, 5, 6, 7, 8, 9, 10]\n",
    "\n",
    "# 找出所有偶數\n",
    "even_numbers = [num for num in numbers if num % 2 == 0]\n",
    "print(f\"偶數列表：{even_numbers}\")  # 輸出：[2, 4, 6, 8, 10]\n",
    "\n",
    "# 找出所有大於 5 的數字並乘以 2\n",
    "doubled_large_numbers = [num * 2 for num in numbers if num > 5]\n",
    "print(f\"大於 5 的數字乘以 2：{doubled_large_numbers}\")  # 輸出：[12, 14, 16, 18, 20]"
   ]
  },
  {
   "cell_type": "markdown",
   "metadata": {},
   "source": [
    "### 2. 處理字符串的列表推導式：\n",
    "\n",
    "[expression_if  if  condition  else  expression_else  for  item  in  iterable]\n",
    "\n",
    "這裡的「表達式」是我們想對每個元素執行的操作（比如 fruit.upper() 或 word[0]），「變量」是用來表示當前正在處理的元素（比如 fruit 或 word），「可迭代對象」則是我們要處理的列表（在這個例子中是 fruits）。\n",
    "這種寫法不僅更簡潔，而且在處理大量數據時通常比傳統的 for 循環更高效。\n",
    "\n",
    "#### 第一個例子 - 將字符串轉換為大寫："
   ]
  },
  {
   "cell_type": "code",
   "execution_count": null,
   "metadata": {},
   "outputs": [
    {
     "name": "stdout",
     "output_type": "stream",
     "text": [
      "轉換為大寫：['APPLE', 'BANANA', 'ORANGE']\n",
      "首字母：['a', 'b', 'o']\n"
     ]
    }
   ],
   "source": [
    "# 將字符串列表轉換為大寫\n",
    "fruits = ['apple', 'banana', 'orange']\n",
    "uppercase_fruits = [fruit.upper() for fruit in fruits]\n",
    "print(f\"轉換為大寫：{uppercase_fruits}\")  # 輸出：['APPLE', 'BANANA', 'ORANGE']\n"
   ]
  },
  {
   "cell_type": "markdown",
   "metadata": {},
   "source": [
    "這段代碼首先創建了一個包含三個水果名稱的列表。然後使用列表推導式來處理每個元素。對於列表中的每個 fruit，都調用 upper() 方法將其轉換為大寫。這相當於以下的傳統 for 循環："
   ]
  },
  {
   "cell_type": "code",
   "execution_count": 40,
   "metadata": {},
   "outputs": [
    {
     "name": "stdout",
     "output_type": "stream",
     "text": [
      "轉換為大寫：['APPLE', 'BANANA', 'ORANGE']\n"
     ]
    }
   ],
   "source": [
    "uppercase_fruits = []\n",
    "for fruit in fruits:\n",
    "    uppercase_fruits.append(fruit.upper())\n",
    "\n",
    "print(f\"轉換為大寫：{uppercase_fruits}\")"
   ]
  },
  {
   "cell_type": "markdown",
   "metadata": {},
   "source": [
    "#### 第二個例子 - 提取首字母："
   ]
  },
  {
   "cell_type": "code",
   "execution_count": null,
   "metadata": {},
   "outputs": [],
   "source": [
    "# 提取每個單詞的首字母\n",
    "first_letters = [word[0] for word in fruits]\n",
    "print(f\"首字母：{first_letters}\")  # 輸出：['a', 'b', 'o']"
   ]
  },
  {
   "cell_type": "markdown",
   "metadata": {},
   "source": [
    "這個例子使用了相同的列表推導式結構，但這次我們獲取每個單詞的第一個字符（索引為 0 的字符）。這等同於："
   ]
  },
  {
   "cell_type": "code",
   "execution_count": null,
   "metadata": {},
   "outputs": [],
   "source": [
    "first_letters = []\n",
    "for word in fruits:\n",
    "    first_letters.append(word[0])\n",
    "\n",
    "print(f\"獲取每個單詞的第一個字符->{first_letters}\")"
   ]
  },
  {
   "cell_type": "markdown",
   "metadata": {},
   "source": [
    "### 3. 使用多重條件和複雜表達式："
   ]
  },
  {
   "cell_type": "code",
   "execution_count": 38,
   "metadata": {},
   "outputs": [
    {
     "name": "stdout",
     "output_type": "stream",
     "text": [
      "處理後的數字：[-125, -64, -27, -8, -1, 0, 1, 4, 9, 16, 25]\n"
     ]
    }
   ],
   "source": [
    "# 語法：[expression if condition else other_expression for item in iterable]\n",
    "\n",
    "numbers = range(-5, 6)\n",
    "# 對正數平方，對負數立方\n",
    "processed_numbers = [num ** 2 if num >= 0 else num ** 3 for num in numbers]\n",
    "print(f\"處理後的數字：{processed_numbers}\")\n",
    "# 輸出：[-125, -64, -27, -8, -1, 0, 1, 4, 9, 16, 25]"
   ]
  },
  {
   "cell_type": "markdown",
   "metadata": {},
   "source": [
    "# B. 迴圈\n",
    "\n",
    "## B1. for 迴圈和 while 迴圈的選擇時機：\n",
    "\n",
    "特別是在處理清單（列表）時的使用原則重點是：\n",
    "\n",
    "1. 當需要處理一個清單時，應該優先使用 for 迴圈而不是 while 迴圈\n",
    "2. 使用 for 迴圈的好處是：\n",
    "\n",
    "- 會從清單開始處理到結束，過程清晰\n",
    "- 不會遇到「差一」（off-by-one）的錯誤問題\n",
    "\n",
    "\n",
    "3. 只有在兩種特殊情況下才考慮使用 while 迴圈：\n",
    "\n",
    "- 有特殊的理由需要使用 while\n",
    "- 需要額外的控制邏輯時\n",
    "\n",
    "\n",
    "\n",
    "這是一個程式設計的最佳實踐建議，目的是讓代碼更容易維護和減少出錯。使用 for 迴圈處理清單通常更安全和直觀，因為它的起始和結束條件都很明確，而 while 迴圈可能會因為控制條件的設定不當而產生錯誤。\n"
   ]
  },
  {
   "cell_type": "markdown",
   "metadata": {},
   "source": [
    "## B2.「差一」(off-by-one) 解釋\n",
    "「差一」(off-by-one) 是程式設計中一種常見的邏輯錯誤，指的是在處理計數、索引或循環時，計算的結果與預期相差一個數值的問題。\n",
    "舉幾個實際例子來說明：\n",
    "\n",
    "1. 陣列索引錯誤："
   ]
  },
  {
   "cell_type": "code",
   "execution_count": 50,
   "metadata": {},
   "outputs": [
    {
     "name": "stdout",
     "output_type": "stream",
     "text": [
      "2\n",
      "3\n",
      "4\n",
      "5\n",
      "------------------------- \n",
      "1\n",
      "2\n",
      "3\n",
      "4\n",
      "5\n"
     ]
    }
   ],
   "source": [
    "# 假設有一個含5個元素的陣列\n",
    "array = [1, 2, 3, 4, 5]\n",
    "\n",
    "# 差一錯誤的例子\n",
    "for i in range(1, len(array)):  # 從1開始，會漏掉第一個元素\n",
    "    print(array[i])\n",
    "\n",
    "print(\"------------------------- \")\n",
    "\n",
    "# 正確的寫法\n",
    "for i in range(0, len(array)):  # 從0開始\n",
    "    print(array[i])"
   ]
  },
  {
   "cell_type": "markdown",
   "metadata": {},
   "source": [
    "2. 計數錯誤："
   ]
  },
  {
   "cell_type": "code",
   "execution_count": 53,
   "metadata": {},
   "outputs": [
    {
     "name": "stdout",
     "output_type": "stream",
     "text": [
      "1\n",
      "2\n",
      "3\n",
      "4\n",
      "5\n",
      "6\n",
      "7\n",
      "8\n",
      "9\n",
      "------------------------- \n",
      "1\n",
      "2\n",
      "3\n",
      "4\n",
      "5\n",
      "6\n",
      "7\n",
      "8\n",
      "9\n",
      "10\n"
     ]
    }
   ],
   "source": [
    "# 差一錯誤：想印出1到10，但實際只印到9\n",
    "for i in range(1, 10):  # 結果：1,2,3,4,5,6,7,8,9\n",
    "    print(i)\n",
    "\n",
    "print(\"------------------------- \")\n",
    "\n",
    "# 正確寫法\n",
    "for i in range(1, 11):  # 結果：1,2,3,4,5,6,7,8,9,10\n",
    "    print(i)"
   ]
  },
  {
   "cell_type": "markdown",
   "metadata": {},
   "source": [
    "3. 邊界條件錯誤："
   ]
  },
  {
   "cell_type": "code",
   "execution_count": 54,
   "metadata": {},
   "outputs": [],
   "source": [
    "# 差一錯誤：檢查密碼長度是否在6-12字元之間\n",
    "def check_password(password):\n",
    "    if len(password) > 6 and len(password) < 12:  # 錯誤：實際上只允許7-11個字元\n",
    "        return \"密碼有效\"\n",
    "    return \"密碼無效\"\n",
    "\n",
    "# 正確寫法\n",
    "def check_password(password):\n",
    "    if len(password) >= 6 and len(password) <= 12:  # 正確：允許6-12個字元\n",
    "        return \"密碼有效\"\n",
    "    return \"密碼無效\""
   ]
  },
  {
   "cell_type": "markdown",
   "metadata": {},
   "source": [
    "為什麼 for 迴圈比較不會有差一問題：\n",
    "\n",
    "- for 迴圈在設計上就是為了遍歷序列而設計的，它會自動處理起始和結束的邊界條件\n",
    "- while 迴圈需要手動設定條件，容易在設定邊界條件時出錯"
   ]
  },
  {
   "cell_type": "code",
   "execution_count": null,
   "metadata": {},
   "outputs": [],
   "source": [
    "# 使用 while 可能導致差一錯誤\n",
    "i = 0\n",
    "while i < len(array) - 1:  # 錯誤：會漏掉最後一個元素\n",
    "    print(array[i])\n",
    "    i += 1\n",
    "\n",
    "# 使用 for 比較安全\n",
    "for item in array:  # 正確：會處理所有元素\n",
    "    print(item)"
   ]
  },
  {
   "cell_type": "markdown",
   "metadata": {},
   "source": [
    "避免差一錯誤的建議：\n",
    "\n",
    "1. 優先使用 for 迴圈處理序列\n",
    "2. 仔細考慮邊界條件（是否包含起始值和結束值）\n",
    "3. 使用明確的比較運算符（>=, <=, >, <）\n",
    "4. 在不確定時可以用小型測試案例驗證邏輯"
   ]
  },
  {
   "cell_type": "markdown",
   "metadata": {},
   "source": [
    "## B3. 檢查清單中是否有清單\n",
    "條件判斷和 isinstance() 函數的使用。"
   ]
  },
  {
   "cell_type": "code",
   "execution_count": 56,
   "metadata": {},
   "outputs": [
    {
     "data": {
      "text/plain": [
       "True"
      ]
     },
     "execution_count": 56,
     "metadata": {},
     "output_type": "execute_result"
    }
   ],
   "source": [
    "names = ['Michael', 'Terry']\n",
    "isinstance(names, list)  # 返回 True，因為 names 確實是個列表"
   ]
  },
  {
   "cell_type": "code",
   "execution_count": 57,
   "metadata": {},
   "outputs": [
    {
     "data": {
      "text/plain": [
       "False"
      ]
     },
     "execution_count": 57,
     "metadata": {},
     "output_type": "execute_result"
    }
   ],
   "source": [
    "num_names = len(names)\n",
    "isinstance(num_names, list)  # 返回 False，因為 num_names 是個數字而不是列表"
   ]
  },
  {
   "cell_type": "markdown",
   "metadata": {},
   "source": [
    "### 1. 基本數據類型檢查："
   ]
  },
  {
   "cell_type": "markdown",
   "metadata": {},
   "source": [
    "### 2. 複合數據類型檢查："
   ]
  },
  {
   "cell_type": "markdown",
   "metadata": {},
   "source": [
    "### 3. 多類型檢查："
   ]
  },
  {
   "cell_type": "markdown",
   "metadata": {},
   "source": [
    "### 4.實際應用場景："
   ]
  }
 ],
 "metadata": {
  "kernelspec": {
   "display_name": "venv",
   "language": "python",
   "name": "python3"
  },
  "language_info": {
   "codemirror_mode": {
    "name": "ipython",
    "version": 3
   },
   "file_extension": ".py",
   "mimetype": "text/x-python",
   "name": "python",
   "nbconvert_exporter": "python",
   "pygments_lexer": "ipython3",
   "version": "3.11.1"
  }
 },
 "nbformat": 4,
 "nbformat_minor": 2
}
